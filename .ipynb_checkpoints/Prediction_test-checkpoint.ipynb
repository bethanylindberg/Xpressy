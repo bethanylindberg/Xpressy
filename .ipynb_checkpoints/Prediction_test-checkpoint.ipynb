{
 "cells": [
  {
   "cell_type": "code",
   "execution_count": 1,
   "metadata": {},
   "outputs": [],
   "source": [
    "from flask import Flask, jsonify, render_template, redirect, request\n",
    "from prediction import processImage\n",
    "from tensorflow.keras.models import load_model\n",
    "from tensorflow.keras.preprocessing.image import ImageDataGenerator, array_to_img, img_to_array, load_img\n",
    "from datetime import datetime\n",
    "import cv2\n",
    "face_cascade = cv2.CascadeClassifier('haarcascade_frontalface_default.xml') \n",
    "import numpy as np\n",
    "\n",
    "UPLOAD_FOLDER = 'static/uploads'\n",
    "ALLOWED_EXTENSIONS = set(['jpg', 'jpeg'])\n",
    "\n",
    "#Credit to github.com/ferrygun for def allowed_file\n",
    "def allowed_file(filename):\n",
    "    return '.' in filename and \\\n",
    "           filename.rsplit('.', 1)[1] in ALLOWED_EXTENSIONS"
   ]
  },
  {
   "cell_type": "code",
   "execution_count": 2,
   "metadata": {},
   "outputs": [
    {
     "data": {
      "text/plain": [
       "'2019-08-19024412'"
      ]
     },
     "execution_count": 2,
     "metadata": {},
     "output_type": "execute_result"
    }
   ],
   "source": [
    "path = datetime.now().strftime('%Y-%m-%d%H:%M:%S')\n",
    "path = path.replace(':','')\n",
    "path"
   ]
  },
  {
   "cell_type": "code",
   "execution_count": 3,
   "metadata": {},
   "outputs": [],
   "source": [
    "image = 'static/Stock_Images/Gallery/angry_03.jpg'"
   ]
  },
  {
   "cell_type": "code",
   "execution_count": 4,
   "metadata": {},
   "outputs": [],
   "source": [
    "\n",
    "img = cv2.imread(image)\n",
    "gray = cv2.cvtColor(img, cv2.COLOR_BGR2GRAY)\n",
    "faces = face_cascade.detectMultiScale(gray, 1.3, 5)\n",
    "\n",
    "for (x,y,w,h) in faces:\n",
    "    face_clip = img[y:y+h, x:x+w]\n",
    "    cv2.imwrite(f\"{UPLOAD_FOLDER }/{path}.jpg\", cv2.resize(face_clip, (48,48)))"
   ]
  },
  {
   "cell_type": "code",
   "execution_count": 5,
   "metadata": {},
   "outputs": [],
   "source": [
    "img = load_img(f\"{UPLOAD_FOLDER }/{path}.jpg\",target_size = (48,48),color_mode='grayscale')\n",
    "img = img_to_array(img)\n",
    "img = np.asarray(img)\n",
    "img /= 255\n",
    "img = img.reshape(1, img.shape[0], img.shape[1], img.shape[2])"
   ]
  },
  {
   "cell_type": "code",
   "execution_count": 6,
   "metadata": {},
   "outputs": [
    {
     "name": "stderr",
     "output_type": "stream",
     "text": [
      "WARNING: Logging before flag parsing goes to stderr.\n",
      "W0819 02:44:13.324189 16316 deprecation.py:506] From C:\\Users\\bethf\\Anaconda3\\lib\\site-packages\\tensorflow\\python\\ops\\init_ops.py:1251: calling VarianceScaling.__init__ (from tensorflow.python.ops.init_ops) with dtype is deprecated and will be removed in a future version.\n",
      "Instructions for updating:\n",
      "Call initializer instance with the dtype argument instead of passing it to the constructor\n"
     ]
    }
   ],
   "source": [
    "model = load_model(\"emotion_model_trained.h5\")"
   ]
  },
  {
   "cell_type": "code",
   "execution_count": 7,
   "metadata": {},
   "outputs": [],
   "source": [
    "prediction = model.predict(img)\n",
    "\n",
    "pred_dict = {}\n",
    "\n",
    "pred_dict[\"Image_ID\"] = f\"{path}.jpg\"\n",
    "# pred_dict[\"label\"] = input_label\n",
    "pred_dict[\"angry_pred\"] = round(prediction[0][0]*100,2)\n",
    "pred_dict[\"disgust_pred\"] = round(prediction[0][1]*100,2)\n",
    "pred_dict[\"fear_pred\"] = round(prediction[0][2]*100,2)\n",
    "pred_dict[\"happy_pred\"] = round(prediction[0][3]*100,2)\n",
    "pred_dict[\"neutral_pred\"] = round(prediction[0][4]*100,2)\n",
    "pred_dict[\"sad_pred\"] = round(prediction[0][5]*100,2)\n",
    "pred_dict[\"surprise_pred\"] = round(prediction[0][6]*100,2)"
   ]
  },
  {
   "cell_type": "code",
   "execution_count": 8,
   "metadata": {},
   "outputs": [
    {
     "data": {
      "text/plain": [
       "{'Image_ID': '2019-08-19024412.jpg',\n",
       " 'angry_pred': 93.16,\n",
       " 'disgust_pred': 0.0,\n",
       " 'fear_pred': 6.49,\n",
       " 'happy_pred': 0.01,\n",
       " 'neutral_pred': 0.04,\n",
       " 'sad_pred': 0.18,\n",
       " 'surprise_pred': 0.12}"
      ]
     },
     "execution_count": 8,
     "metadata": {},
     "output_type": "execute_result"
    }
   ],
   "source": [
    "pred_dict"
   ]
  },
  {
   "cell_type": "code",
   "execution_count": null,
   "metadata": {},
   "outputs": [],
   "source": []
  }
 ],
 "metadata": {
  "kernelspec": {
   "display_name": "Python 3",
   "language": "python",
   "name": "python3"
  },
  "language_info": {
   "codemirror_mode": {
    "name": "ipython",
    "version": 3
   },
   "file_extension": ".py",
   "mimetype": "text/x-python",
   "name": "python",
   "nbconvert_exporter": "python",
   "pygments_lexer": "ipython3",
   "version": "3.7.3"
  }
 },
 "nbformat": 4,
 "nbformat_minor": 2
}
